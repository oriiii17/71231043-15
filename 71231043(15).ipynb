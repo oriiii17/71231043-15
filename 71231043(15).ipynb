{
 "cells": [
  {
   "cell_type": "code",
   "execution_count": 2,
   "id": "249568d2-7ee6-4d1c-98a0-4c2d85f98f3d",
   "metadata": {},
   "outputs": [
    {
     "name": "stdout",
     "output_type": "stream",
     "text": [
      "['Halo', 'Dunia', 'Ini', 'Contoh', 'Bagus', 'Regex']\n"
     ]
    }
   ],
   "source": [
    "# Mencocokkan semua kata yang diawali huruf besar\n",
    "import re\n",
    "\n",
    "teks = \"Halo Dunia. Ini adalah Contoh yang Bagus untuk Regex.\"\n",
    "pola = r'\\b[A-Z][a-z]*\\b'\n",
    "\n",
    "cocokan = re.findall(pola, teks)\n",
    "print(cocokan)"
   ]
  },
  {
   "cell_type": "code",
   "execution_count": 3,
   "id": "e4c58a9c-433e-41c4-a449-f1ed7092ac3f",
   "metadata": {},
   "outputs": [
    {
     "name": "stdout",
     "output_type": "stream",
     "text": [
      "['contoh.email@example.com', 'admin123@website.co.id']\n"
     ]
    }
   ],
   "source": [
    "# Mencari alamat email dalam teks\n",
    "import re\n",
    "\n",
    "teks = \"Silakan kirim email ke contoh.email@example.com atau ke admin123@website.co.id untuk informasi lebih lanjut.\"\n",
    "pola = r'[a-zA-Z0-9._%+-]+@[a-zA-Z0-9.-]+\\.[a-zA-Z]{2,}'\n",
    "\n",
    "cocokan = re.findall(pola, teks)\n",
    "print(cocokan)"
   ]
  },
  {
   "cell_type": "code",
   "execution_count": 4,
   "id": "dc24407b-f878-4a03-bc73-f316305e1a9d",
   "metadata": {},
   "outputs": [
    {
     "name": "stdout",
     "output_type": "stream",
     "text": [
      "['(123) 456-7890', '(987) 654-3210']\n"
     ]
    }
   ],
   "source": [
    "# Mencari nomor telepon dengan format tertentu\n",
    "import re\n",
    "\n",
    "teks = \"Hubungi kami di (123) 456-7890 atau (987) 654-3210 untuk informasi lebih lanjut.\"\n",
    "pola = r'\\(\\d{3}\\) \\d{3}-\\d{4}'\n",
    "\n",
    "cocokan = re.findall(pola, teks)\n",
    "print(cocokan)"
   ]
  },
  {
   "cell_type": "code",
   "execution_count": 5,
   "id": "7ad29fd9-5a5b-4fd9-968a-1f51de53af76",
   "metadata": {},
   "outputs": [
    {
     "name": "stdout",
     "output_type": "stream",
     "text": [
      "['example@example.com', 'info@example.net']\n"
     ]
    }
   ],
   "source": [
    "# re.findall()\n",
    "import re\n",
    "\n",
    "teks = \"Email: example@example.com, info@example.net\"\n",
    "pola = r'[a-zA-Z0-9._%+-]+@[a-zA-Z0-9.-]+\\.[a-zA-Z]{2,}'\n",
    "\n",
    "emails = re.findall(pola, teks)\n",
    "print(emails)"
   ]
  },
  {
   "cell_type": "code",
   "execution_count": 6,
   "id": "ef8a3311-22a4-4972-8f59-ca0bf374774a",
   "metadata": {},
   "outputs": [
    {
     "name": "stdout",
     "output_type": "stream",
     "text": [
      "(123) 456-7890\n"
     ]
    }
   ],
   "source": [
    "# re.search()\n",
    "import re\n",
    "\n",
    "teks = \"Nomor telepon: (123) 456-7890\"\n",
    "pola = r'\\(\\d{3}\\) \\d{3}-\\d{4}'\n",
    "\n",
    "cocokan = re.search(pola, teks)\n",
    "if cocokan:\n",
    "    print(cocokan.group())"
   ]
  },
  {
   "cell_type": "code",
   "execution_count": 7,
   "id": "2a624551-f280-429a-855b-137e65e24a4f",
   "metadata": {},
   "outputs": [
    {
     "name": "stdout",
     "output_type": "stream",
     "text": [
      "(123) 456-7890\n"
     ]
    }
   ],
   "source": [
    "# re.match()\n",
    "import re\n",
    "\n",
    "teks = \"(123) 456-7890 adalah nomor telepon.\"\n",
    "pola = r'\\(\\d{3}\\) \\d{3}-\\d{4}'\n",
    "\n",
    "cocokan = re.match(pola, teks)\n",
    "if cocokan:\n",
    "    print(cocokan.group())"
   ]
  },
  {
   "cell_type": "code",
   "execution_count": 8,
   "id": "362a8c2b-ea87-4633-90c8-61386eea8804",
   "metadata": {},
   "outputs": [
    {
     "name": "stdout",
     "output_type": "stream",
     "text": [
      "(123) 456-7890\n"
     ]
    }
   ],
   "source": [
    "# re.fullmatch()\n",
    "import re\n",
    "\n",
    "teks = \"(123) 456-7890\"\n",
    "pola = r'\\(\\d{3}\\) \\d{3}-\\d{4}'\n",
    "\n",
    "cocokan = re.fullmatch(pola, teks)\n",
    "if cocokan:\n",
    "    print(cocokan.group())"
   ]
  },
  {
   "cell_type": "code",
   "execution_count": 9,
   "id": "620c3131-6c7c-4674-8afc-b1be02ad4bf5",
   "metadata": {},
   "outputs": [
    {
     "name": "stdout",
     "output_type": "stream",
     "text": [
      "(123) 456-7890\n",
      "(987) 654-3210\n"
     ]
    }
   ],
   "source": [
    "# re.finditer()\n",
    "import re\n",
    "\n",
    "teks = \"Nomor: (123) 456-7890, (987) 654-3210\"\n",
    "pola = r'\\(\\d{3}\\) \\d{3}-\\d{4}'\n",
    "\n",
    "cocokan_iter = re.finditer(pola, teks)\n",
    "for cocokan in cocokan_iter:\n",
    "    print(cocokan.group())"
   ]
  },
  {
   "cell_type": "code",
   "execution_count": 10,
   "id": "61b2f385-aafd-453e-a8f4-0d1fbe12356f",
   "metadata": {},
   "outputs": [
    {
     "name": "stdout",
     "output_type": "stream",
     "text": [
      "Nomor: [nomor telepon], [nomor telepon]\n"
     ]
    }
   ],
   "source": [
    "# re.sub()\n",
    "import re\n",
    "\n",
    "teks = \"Nomor: (123) 456-7890, (987) 654-3210\"\n",
    "pola = r'\\(\\d{3}\\) \\d{3}-\\d{4}'\n",
    "pengganti = '[nomor telepon]'\n",
    "\n",
    "hasil = re.sub(pola, pengganti, teks)\n",
    "print(hasil)"
   ]
  },
  {
   "cell_type": "code",
   "execution_count": 11,
   "id": "eca57190-c5b9-4d14-906e-f99100e80311",
   "metadata": {},
   "outputs": [
    {
     "name": "stdout",
     "output_type": "stream",
     "text": [
      "['Nomor: ', ', ', '']\n"
     ]
    }
   ],
   "source": [
    "# re.split()\n",
    "import re\n",
    "\n",
    "teks = \"Nomor: (123) 456-7890, (987) 654-3210\"\n",
    "pola = r'\\(\\d{3}\\) \\d{3}-\\d{4}'\n",
    "\n",
    "hasil = re.split(pola, teks)\n",
    "print(hasil)"
   ]
  },
  {
   "cell_type": "code",
   "execution_count": 12,
   "id": "ed43ce2d-bfba-4fcb-90ff-8bb76b30feca",
   "metadata": {},
   "outputs": [
    {
     "name": "stdout",
     "output_type": "stream",
     "text": [
      "['(123) 456-7890', '(987) 654-3210']\n"
     ]
    }
   ],
   "source": [
    "# re.compile()\n",
    "import re\n",
    "\n",
    "teks = \"Nomor: (123) 456-7890, (987) 654-3210\"\n",
    "pola = re.compile(r'\\(\\d{3}\\) \\d{3}-\\d{4}')\n",
    "\n",
    "cocokan = pola.findall(teks)\n",
    "print(cocokan)"
   ]
  },
  {
   "cell_type": "code",
   "execution_count": 13,
   "id": "aaa8d497-a240-426c-a99e-a6b02c848936",
   "metadata": {},
   "outputs": [
    {
     "name": "stdout",
     "output_type": "stream",
     "text": [
      "1945-08-17 00:00:00 selisih 28780 hari\n",
      "1785-11-11 00:00:00 selisih 87132 hari\n",
      "1783-06-08 00:00:00 selisih 88019 hari\n",
      "1889-05-02 00:00:00 selisih 49340 hari\n"
     ]
    }
   ],
   "source": [
    "# Latihan 14.1\n",
    "import re\n",
    "from datetime import datetime\n",
    "\n",
    "teks = \"\"\"Pada tanggal 1945-08-17 Indonesia merdeka. Indonesia memiliki beberapa pahlawan nasional, seperti Pangeran Diponegoro (TL: 1785-11-11), Pattimura (TL: 1783-06-08) dan Ki Hajar Dewantara (1889-05-02).\"\"\"\n",
    "\n",
    "pola_tanggal = r\"\\b(\\d{4})-(\\d{2})-(\\d{2})\\b\"\n",
    "\n",
    "tanggal = re.findall(pola_tanggal, teks)\n",
    "\n",
    "tanggal_sekarang = datetime.now()\n",
    "\n",
    "for tgl in tanggal:\n",
    "    tgl_asli_str = f\"{tgl[0]}-{tgl[1]}-{tgl[2]}\"\n",
    "    tgl_asli = datetime.strptime(tgl_asli_str, \"%Y-%m-%d\")\n",
    "    tgl_format_str = tgl_asli.strftime(\"%d-%m-%Y\")\n",
    "    selisih_hari = (tanggal_sekarang - tgl_asli).days\n",
    "    print(f\"{tgl_asli_str} 00:00:00 selisih {selisih_hari} hari\")"
   ]
  },
  {
   "cell_type": "code",
   "execution_count": 14,
   "id": "c637e907-2940-4ce9-89c5-39ddb16974d1",
   "metadata": {},
   "outputs": [
    {
     "name": "stdout",
     "output_type": "stream",
     "text": [
      "anton@mail.com username: anton, password: yyR6Jgu0\n",
      "budi@gmail.co.id username: budi, password: yzocDAYd\n",
      "slamet@getnada.com username: slamet, password: ejmba8p2\n",
      "matahari@tokopedia.com username: matahari, password: 9BoPXjkG\n"
     ]
    }
   ],
   "source": [
    "# Latihan 14.2\n",
    "import re\n",
    "import string\n",
    "import random\n",
    "\n",
    "def generate_password(length=8):\n",
    "    characters = string.ascii_letters + string.digits\n",
    "    password = ''.join(random.choice(characters) for _ in range(length))\n",
    "    return password\n",
    "\n",
    "text = \"\"\"Berikut adalah daftar email dan nama pengguna dari mailing list:\n",
    "anton@mail.com dimiliki oleh antonius\n",
    "budi@gmail.co.id dimiliki oleh budi anwari\n",
    "slamet@getnada.com dimiliki oleh slamet slumut\n",
    "matahari@tokopedia.com dimiliki oleh toko matahari\"\"\"\n",
    "\n",
    "email_pattern = r'\\b[\\w\\.-]+@[\\w\\.-]+\\.\\w+\\b'\n",
    "emails = re.findall(email_pattern, text)\n",
    "\n",
    "for email in emails:\n",
    "    username = email.split('@')[0]\n",
    "    password = generate_password()\n",
    "    print(f\"{email} username: {username}, password: {password}\")"
   ]
  }
 ],
 "metadata": {
  "kernelspec": {
   "display_name": "Python 3 (ipykernel)",
   "language": "python",
   "name": "python3"
  },
  "language_info": {
   "codemirror_mode": {
    "name": "ipython",
    "version": 3
   },
   "file_extension": ".py",
   "mimetype": "text/x-python",
   "name": "python",
   "nbconvert_exporter": "python",
   "pygments_lexer": "ipython3",
   "version": "3.11.7"
  }
 },
 "nbformat": 4,
 "nbformat_minor": 5
}
